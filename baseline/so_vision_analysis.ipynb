{
 "cells": [
  {
   "cell_type": "code",
   "execution_count": 1,
   "metadata": {},
   "outputs": [],
   "source": [
    "import cv2\n",
    "import math\n",
    "import pickle\n",
    "import numpy as np\n",
    "\n",
    "from evaluate import FDDBImg, ANIMOO"
   ]
  },
  {
   "cell_type": "code",
   "execution_count": 2,
   "metadata": {},
   "outputs": [],
   "source": [
    "# choose which output to use here\n",
    "EVAL_FILE = 'so_mtcnn.pkl'\n",
    "with open(EVAL_FILE, 'rb') as pfile:\n",
    "    results = pickle.load(pfile)"
   ]
  },
  {
   "cell_type": "code",
   "execution_count": 3,
   "metadata": {},
   "outputs": [
    {
     "name": "stdout",
     "output_type": "stream",
     "text": [
      "2521 66318 1181\n",
      "Precision 0.036621682476503145\n",
      "Recall 0.6809832522960562\n"
     ]
    }
   ],
   "source": [
    "truepos = 0\n",
    "falsepos = 0\n",
    "falseneg = 0\n",
    "for img in results:\n",
    "    met = img.compute_metrics()\n",
    "    truepos += met[0]\n",
    "    falsepos += met[1]\n",
    "    falseneg += met[2]\n",
    "\n",
    "print(truepos, falsepos, falseneg)\n",
    "print('Precision', truepos / (truepos + falsepos))\n",
    "print('Recall', truepos / (truepos + falseneg))"
   ]
  },
  {
   "cell_type": "code",
   "execution_count": 4,
   "metadata": {},
   "outputs": [
    {
     "name": "stdout",
     "output_type": "stream",
     "text": [
      "[(6.335185154249245e-11, False), (1.0268899508503182e-08, False), (1.1576218206243993e-08, False), (2.2161264823239435e-08, False), (2.2786677433828118e-08, False), (3.081391142245593e-08, False), (5.056535457015343e-08, False), (5.291971660881245e-08, False), (8.350694002956516e-08, False), (8.88221691752733e-08, False), (1.0310196074669875e-07, False), (1.0433023334144309e-07, False), (1.1536591415506336e-07, False), (1.2523710779532848e-07, False), (1.2757986667111254e-07, False), (1.288820072886665e-07, False), (1.298611209676892e-07, False), (1.8870046858410205e-07, False), (2.396305376350938e-07, False), (2.4996032266244583e-07, False), (3.320245696158963e-07, False), (3.454133263858239e-07, False), (3.631514573498862e-07, False), (3.777888935019291e-07, False), (3.927659975033748e-07, False), (4.215290800857474e-07, False), (4.33123403809077e-07, False), (4.3514882008821587e-07, False), (4.611700035184185e-07, False), (4.997486939828377e-07, False), (5.46264857348433e-07, False), (5.821190711685631e-07, False), (6.087392421250115e-07, False), (6.591116061827051e-07, False), (6.824625415902119e-07, False), (7.03547641478508e-07, False), (7.081465582814417e-07, False), (7.272353172993462e-07, False), (7.420010774694674e-07, False), (8.31344891594199e-07, False), (8.417969183938112e-07, False), (8.700935723027214e-07, False), (8.754739155847346e-07, False), (8.76223964496603e-07, False), (9.014159445541736e-07, False), (9.643758858146612e-07, False), (9.799597364690271e-07, False), (1.0380506410001544e-06, False), (1.0528251550567802e-06, False), (1.0581418337096693e-06, False), (1.0659905456122942e-06, False), (1.1388030998205068e-06, False), (1.1828337846964132e-06, False), (1.1899197716047638e-06, False), (1.1957474725932116e-06, False), (1.210939103657438e-06, False), (1.2606168411366525e-06, False), (1.2766861345880898e-06, False), (1.2928076102980413e-06, False), (1.3128145610608044e-06, False), (1.347271904705849e-06, False), (1.355742597297649e-06, False), (1.3764713457931066e-06, False), (1.441903691556945e-06, False), (1.4504366845358163e-06, False), (1.4998572623881046e-06, False), (1.509028152213432e-06, False), (1.538738274575735e-06, False), (1.5902044196991483e-06, False), (1.6387311916332692e-06, False), (1.650941499065084e-06, False), (1.6601746892774827e-06, False), (1.6741340687076445e-06, False), (1.724840558381402e-06, False), (1.7363917095281067e-06, False), (1.7394596625308623e-06, False), (1.7709074882077402e-06, False), (1.8132664081349503e-06, False), (1.8410696611681487e-06, False), (1.873049882306077e-06, False), (2.034155613728217e-06, False), (2.095502168231178e-06, False), (2.101351810779306e-06, False), (2.1882842702325433e-06, False), (2.2130761863081716e-06, False), (2.2164049369166605e-06, False), (2.216986331404769e-06, False), (2.2498338694276754e-06, False), (2.384406343480805e-06, False), (2.406671683274908e-06, False), (2.420521468593506e-06, False), (2.428361995043815e-06, False), (2.445764721414889e-06, False), (2.4650883005961077e-06, False), (2.5019214717758587e-06, False), (2.55085888056783e-06, False), (2.585963329693186e-06, False), (2.659035544638755e-06, False), (2.6765728762256913e-06, False), (2.72799184131145e-06, False)]\n"
     ]
    }
   ],
   "source": [
    "orig_dets = []\n",
    "for img in results:\n",
    "    _, _, _, pred_det, _ = img.compute_metrics(returnArrs=True)\n",
    "    assert len(pred_det) == len(img.pred_conf)\n",
    "    for i in range(len(pred_det)):\n",
    "        orig_dets.append((img.pred_conf[i], pred_det[i]))\n",
    "\n",
    "dets = sorted(orig_dets)\n",
    "print(dets[:100])"
   ]
  },
  {
   "cell_type": "code",
   "execution_count": 5,
   "metadata": {},
   "outputs": [
    {
     "name": "stdout",
     "output_type": "stream",
     "text": [
      "2521 66318 1181\n"
     ]
    }
   ],
   "source": [
    "precArr = []\n",
    "recallArr = []\n",
    "trueposA = truepos\n",
    "falseposA = falsepos\n",
    "falsenegA = falseneg\n",
    "print(trueposA, falseposA, falsenegA)\n",
    "for d in dets:\n",
    "    precArr.append(trueposA / (trueposA + falseposA))\n",
    "    recallArr.append(trueposA / (trueposA + falsenegA))\n",
    "    if d[1]:\n",
    "        # true pos\n",
    "        trueposA -= 1\n",
    "        falsenegA += 1\n",
    "    else:\n",
    "        # false pos\n",
    "        falseposA -= 1"
   ]
  },
  {
   "cell_type": "code",
   "execution_count": 6,
   "metadata": {},
   "outputs": [
    {
     "data": {
      "image/png": "[encoded data removed]",
      "text/plain": [
       "<Figure size 432x288 with 1 Axes>"
      ]
     },
     "metadata": {
      "needs_background": "light"
     },
     "output_type": "display_data"
    }
   ],
   "source": [
    "import matplotlib.pyplot as plt\n",
    "\n",
    "plt.scatter(recallArr, precArr, s=0.8)\n",
    "plt.xlim((0,1))\n",
    "plt.ylim((0,1))\n",
    "plt.xlabel('Recall')\n",
    "plt.ylabel('Precision')\n",
    "plt.title('MTCNN on our dataset')\n",
    "plt.show()"
   ]
  },
  {
   "cell_type": "code",
   "execution_count": 7,
   "metadata": {},
   "outputs": [
    {
     "ename": "NameError",
     "evalue": "name 'metrics' is not defined",
     "output_type": "error",
     "traceback": [
      "\u001b[0;31m---------------------------------------------------------------------------\u001b[0m",
      "\u001b[0;31mNameError\u001b[0m                                 Traceback (most recent call last)",
      "\u001b[0;32m<ipython-input-7-5ed2cea2d43a>\u001b[0m in \u001b[0;36m<module>\u001b[0;34m\u001b[0m\n\u001b[1;32m      3\u001b[0m \u001b[0;34m\u001b[0m\u001b[0m\n\u001b[1;32m      4\u001b[0m \u001b[0midxs\u001b[0m \u001b[0;34m=\u001b[0m \u001b[0mnp\u001b[0m\u001b[0;34m.\u001b[0m\u001b[0margsort\u001b[0m\u001b[0;34m(\u001b[0m\u001b[0mnpRecallArr\u001b[0m\u001b[0;34m)\u001b[0m\u001b[0;34m\u001b[0m\u001b[0;34m\u001b[0m\u001b[0m\n\u001b[0;32m----> 5\u001b[0;31m \u001b[0mAP\u001b[0m \u001b[0;34m=\u001b[0m \u001b[0mmetrics\u001b[0m\u001b[0;34m.\u001b[0m\u001b[0mauc\u001b[0m\u001b[0;34m(\u001b[0m\u001b[0mnpRecallArr\u001b[0m\u001b[0;34m[\u001b[0m\u001b[0midxs\u001b[0m\u001b[0;34m]\u001b[0m\u001b[0;34m,\u001b[0m \u001b[0mnpPrecArr\u001b[0m\u001b[0;34m[\u001b[0m\u001b[0midxs\u001b[0m\u001b[0;34m]\u001b[0m\u001b[0;34m)\u001b[0m\u001b[0;34m\u001b[0m\u001b[0;34m\u001b[0m\u001b[0m\n\u001b[0m\u001b[1;32m      6\u001b[0m \u001b[0mprint\u001b[0m\u001b[0;34m(\u001b[0m\u001b[0;34m'AP:'\u001b[0m\u001b[0;34m,\u001b[0m \u001b[0mAP\u001b[0m\u001b[0;34m)\u001b[0m\u001b[0;34m\u001b[0m\u001b[0;34m\u001b[0m\u001b[0m\n",
      "\u001b[0;31mNameError\u001b[0m: name 'metrics' is not defined"
     ]
    }
   ],
   "source": [
    "from sklearn import metrics\n",
    "npRecallArr = np.array(recallArr)\n",
    "npPrecArr = np.array(precArr)\n",
    "\n",
    "idxs = np.argsort(npRecallArr)\n",
    "AP = metrics.auc(npRecallArr[idxs], npPrecArr[idxs])\n",
    "print('AP:', AP)"
   ]
  },
  {
   "cell_type": "code",
   "execution_count": null,
   "metadata": {},
   "outputs": [
    {
     "name": "stdout",
     "output_type": "stream",
     "text": [
      "TP, FP, FN: 840 39859 1076\n"
     ]
    }
   ],
   "source": [
    "# try cartoon faces\n",
    "cartoon_dets = []\n",
    "truepos = 0\n",
    "falsepos = 0\n",
    "falseneg = 0\n",
    "for idx in range(1000):\n",
    "    img = results[idx]\n",
    "    tp, fp, fn, pred_det, _ = img.compute_metrics(returnArrs=True)\n",
    "    truepos += tp\n",
    "    falsepos += fp\n",
    "    falseneg += fn\n",
    "    assert len(pred_det) == len(img.pred_conf)\n",
    "    for i in range(len(pred_det)):\n",
    "        cartoon_dets.append((img.pred_conf[i], pred_det[i]))\n",
    "\n",
    "cartoon_dets = sorted(cartoon_dets, key = (lambda x : x[0]))\n",
    "print('TP, FP, FN:', truepos, falsepos, falseneg)"
   ]
  },
  {
   "cell_type": "code",
   "execution_count": null,
   "metadata": {},
   "outputs": [
    {
     "name": "stdout",
     "output_type": "stream",
     "text": [
      "840 39859 1076\n"
     ]
    }
   ],
   "source": [
    "precArr = []\n",
    "recallArr = []\n",
    "trueposA = truepos\n",
    "falseposA = falsepos\n",
    "falsenegA = falseneg\n",
    "print(trueposA, falseposA, falsenegA)\n",
    "for d in cartoon_dets:\n",
    "    precArr.append(trueposA / (trueposA + falseposA))\n",
    "    recallArr.append(trueposA / (trueposA + falsenegA))\n",
    "    if d[1]:\n",
    "        # true pos\n",
    "        trueposA -= 1\n",
    "        falsenegA += 1\n",
    "    else:\n",
    "        # false pos\n",
    "        falseposA -= 1"
   ]
  },
  {
   "cell_type": "code",
   "execution_count": null,
   "metadata": {},
   "outputs": [
    {
     "data": {
      "image/png": "[encoded data removed]",
      "text/plain": [
       "<Figure size 432x288 with 1 Axes>"
      ]
     },
     "metadata": {
      "needs_background": "light"
     },
     "output_type": "display_data"
    }
   ],
   "source": [
    "plt.scatter(recallArr, precArr, s=0.8)\n",
    "plt.xlim((0,1))\n",
    "plt.ylim((0,1))\n",
    "plt.xlabel('Recall')\n",
    "plt.ylabel('Precision')\n",
    "plt.title('MTCNN on cartoon only')\n",
    "plt.show()"
   ]
  },
  {
   "cell_type": "code",
   "execution_count": null,
   "metadata": {},
   "outputs": [],
   "source": [
    "from sklearn import metrics\n",
    "npRecallArr = np.array(recallArr)\n",
    "npPrecArr = np.array(precArr)\n",
    "\n",
    "idxs = np.argsort(npRecallArr)\n",
    "AP = metrics.auc(npRecallArr[idxs], npPrecArr[idxs])\n",
    "print('AP:', AP)"
   ]
  },
  {
   "cell_type": "code",
   "execution_count": null,
   "metadata": {},
   "outputs": [
    {
     "name": "stdout",
     "output_type": "stream",
     "text": [
      "TP, FP, FN: 1681 26459 105\n"
     ]
    }
   ],
   "source": [
    "# now try just real images\n",
    "real_dets = []\n",
    "truepos = 0\n",
    "falsepos = 0\n",
    "falseneg = 0\n",
    "for idx in range(1000, 2000):\n",
    "    img = results[idx]\n",
    "    tp, fp, fn, pred_det, _ = img.compute_metrics(returnArrs=True)\n",
    "    truepos += tp\n",
    "    falsepos += fp\n",
    "    falseneg += fn\n",
    "    assert len(pred_det) == len(img.pred_conf)\n",
    "    for i in range(len(pred_det)):\n",
    "        real_dets.append((img.pred_conf[i], pred_det[i]))\n",
    "\n",
    "real_dets = sorted(real_dets, key = (lambda x : x[0]))\n",
    "print('TP, FP, FN:', truepos, falsepos, falseneg)"
   ]
  },
  {
   "cell_type": "code",
   "execution_count": null,
   "metadata": {},
   "outputs": [
    {
     "name": "stdout",
     "output_type": "stream",
     "text": [
      "1681 26459 105\n"
     ]
    }
   ],
   "source": [
    "precArr = []\n",
    "recallArr = []\n",
    "trueposA = truepos\n",
    "falseposA = falsepos\n",
    "falsenegA = falseneg\n",
    "print(trueposA, falseposA, falsenegA)\n",
    "for d in real_dets:\n",
    "    precArr.append(trueposA / (trueposA + falseposA))\n",
    "    recallArr.append(trueposA / (trueposA + falsenegA))\n",
    "    if d[1]:\n",
    "        # true pos\n",
    "        trueposA -= 1\n",
    "        falsenegA += 1\n",
    "    else:\n",
    "        # false pos\n",
    "        falseposA -= 1"
   ]
  },
  {
   "cell_type": "code",
   "execution_count": null,
   "metadata": {},
   "outputs": [
    {
     "data": {
      "image/png": "[encoded data removed]",
      "text/plain": [
       "<Figure size 432x288 with 1 Axes>"
      ]
     },
     "metadata": {
      "needs_background": "light"
     },
     "output_type": "display_data"
    }
   ],
   "source": [
    "plt.scatter(recallArr, precArr, s=0.8)\n",
    "plt.xlim((0,1))\n",
    "plt.ylim((0,1))\n",
    "plt.xlabel('Recall')\n",
    "plt.ylabel('Precision')\n",
    "plt.title('MTCNN on FDDB only')\n",
    "plt.show()"
   ]
  },
  {
   "cell_type": "code",
   "execution_count": null,
   "metadata": {},
   "outputs": [],
   "source": [
    "npRecallArr = np.array(recallArr)\n",
    "npPrecArr = np.array(precArr)\n",
    "\n",
    "idxs = np.argsort(npRecallArr)\n",
    "AP = metrics.auc(npRecallArr[idxs], npPrecArr[idxs])\n",
    "print('AP:', AP)"
   ]
  }
 ],
 "metadata": {
  "interpreter": {
   "hash": "93cee8e4f3b90430d72f78c4fd00dc0b0193da9f4984d01c95e8c24d74e31ba8"
  },
  "kernelspec": {
   "display_name": "Python 3.7.11 64-bit ('cos429': conda)",
   "language": "python",
   "name": "python3"
  },
  "language_info": {
   "codemirror_mode": {
    "name": "ipython",
    "version": 3
   },
   "file_extension": ".py",
   "mimetype": "text/x-python",
   "name": "python",
   "nbconvert_exporter": "python",
   "pygments_lexer": "ipython3",
   "version": "3.7.11"
  },
  "orig_nbformat": 4
 },
 "nbformat": 4,
 "nbformat_minor": 2
}
