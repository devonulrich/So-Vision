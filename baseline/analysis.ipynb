{
 "cells": [
  {
   "cell_type": "code",
   "execution_count": 1,
   "metadata": {},
   "outputs": [],
   "source": [
    "import cv2\n",
    "import math\n",
    "import pickle\n",
    "import numpy as np\n",
    "\n",
    "from evaluate import FDDBImg"
   ]
  },
  {
   "cell_type": "code",
   "execution_count": 12,
   "metadata": {},
   "outputs": [],
   "source": [
    "with open('fddb_mtcnn.pkl', 'rb') as pfile:\n",
    "    results = pickle.load(pfile)"
   ]
  },
  {
   "cell_type": "code",
   "execution_count": 13,
   "metadata": {},
   "outputs": [
    {
     "name": "stdout",
     "output_type": "stream",
     "text": [
      "971 10677 17\n",
      "Precision 0.08336195054945054\n",
      "Recall 0.9827935222672065\n"
     ]
    }
   ],
   "source": [
    "truepos = 0\n",
    "falsepos = 0\n",
    "falseneg = 0\n",
    "for img in results:\n",
    "    met = img.compute_metrics()\n",
    "    truepos += met[0]\n",
    "    falsepos += met[1]\n",
    "    falseneg += met[2]\n",
    "\n",
    "print(truepos, falsepos, falseneg)\n",
    "print('Precision', truepos / (truepos + falsepos))\n",
    "print('Recall', truepos / (truepos + falseneg))"
   ]
  },
  {
   "cell_type": "code",
   "execution_count": 14,
   "metadata": {},
   "outputs": [
    {
     "name": "stdout",
     "output_type": "stream",
     "text": [
      "[(1.2635809980565682e-05, False), (2.247511838504579e-05, False), (2.5227534933947027e-05, False), (3.69867411791347e-05, False), (3.926028512069024e-05, False), (4.3509029637789354e-05, False), (4.8747300752438605e-05, False), (5.11300859216135e-05, False), (5.854769915458746e-05, False), (5.8749767049448565e-05, False), (5.924938159296289e-05, False), (5.978493209113367e-05, False), (6.010321885696612e-05, False), (6.971350376261398e-05, False), (7.197665399871767e-05, False), (7.470959826605394e-05, False), (7.551964517915621e-05, False), (7.679804548388347e-05, False), (7.862196071073413e-05, False), (8.132575749186799e-05, False), (8.190018706955016e-05, False), (8.358821651199833e-05, False), (8.531004277756438e-05, False), (8.59974607010372e-05, False), (9.247208072338253e-05, False), (9.442723239772022e-05, False), (9.968543599825352e-05, False), (0.00011281201295787469, False), (0.00011391103180358186, False), (0.00011826243280665949, False), (0.00012005952157778665, False), (0.00012430296919774264, False), (0.00012492430687416345, False), (0.0001256131799891591, False), (0.0001283242309000343, False), (0.00013036913878750056, False), (0.00013230956392362714, False), (0.00013649955508299172, False), (0.00014060930698178709, False), (0.0001420138869434595, False), (0.00014629284851253033, False), (0.00014651817036792636, False), (0.0001491427974542603, False), (0.00015251377772074193, False), (0.00015417157555930316, False), (0.0001547049469081685, False), (0.00015952129615470767, False), (0.00017053924966603518, False), (0.00018096131680067629, False), (0.00018469244241714478, False), (0.00018530170200392604, False), (0.00018670600547920913, False), (0.0001931999286171049, False), (0.00019438416347838938, False), (0.00020021382078994066, False), (0.00020229199435561895, False), (0.00021102606842759997, False), (0.00021293362078722566, False), (0.000213422259548679, False), (0.0002171995583921671, False), (0.00021765334531664848, False), (0.0002350197173655033, False), (0.00023700352176092565, False), (0.00023758002498652786, False), (0.00023941142717376351, False), (0.0002460699761286378, False), (0.0002508383186068386, False), (0.00025141751393675804, False), (0.0002542773145250976, False), (0.00025601472589187324, False), (0.0002567392657510936, False), (0.00026662935852073133, False), (0.0002751791325863451, False), (0.00027575166313908994, False), (0.0002778476045932621, False), (0.0002794287574943155, False), (0.00028172528254799545, False), (0.0002844097325578332, False), (0.00028640811797231436, False), (0.0002892024931497872, False), (0.0002954603696707636, False), (0.00029547838494181633, False), (0.0002960976562462747, False), (0.00030020109261386096, False), (0.0003058798029087484, False), (0.0003106561198364943, False), (0.00031887085060589015, False), (0.00031931197736412287, False), (0.00032056067720986903, False), (0.0003287967119831592, False), (0.0003290868189651519, False), (0.0003302320546936244, False), (0.0003336504159960896, False), (0.00033579193404875696, False), (0.0003358953690622002, False), (0.0003365376906003803, False), (0.0003398302651476115, False), (0.00034044767380692065, False), (0.00034046423388645053, False), (0.0003433132660575211, False)]\n"
     ]
    }
   ],
   "source": [
    "dets = []\n",
    "for img in results:\n",
    "    _, _, _, pred_det, _ = img.compute_metrics(returnArrs=True)\n",
    "    assert len(pred_det) == len(img.pred_conf)\n",
    "    for i in range(len(pred_det)):\n",
    "        dets.append((img.pred_conf[i], pred_det[i]))\n",
    "\n",
    "dets = sorted(dets)\n",
    "print(dets[:100])"
   ]
  },
  {
   "cell_type": "code",
   "execution_count": 15,
   "metadata": {},
   "outputs": [
    {
     "name": "stdout",
     "output_type": "stream",
     "text": [
      "971 10677 17\n"
     ]
    }
   ],
   "source": [
    "precArr = []\n",
    "recallArr = []\n",
    "trueposA = truepos\n",
    "falseposA = falsepos\n",
    "falsenegA = falseneg\n",
    "print(trueposA, falseposA, falsenegA)\n",
    "for d in dets:\n",
    "    precArr.append(trueposA / (trueposA + falseposA))\n",
    "    recallArr.append(trueposA / (trueposA + falsenegA))\n",
    "    if d[1]:\n",
    "        # true pos\n",
    "        trueposA -= 1\n",
    "        falsenegA += 1\n",
    "    else:\n",
    "        # false pos\n",
    "        falseposA -= 1"
   ]
  },
  {
   "cell_type": "code",
   "execution_count": 17,
   "metadata": {},
   "outputs": [
    {
     "data": {
      "image/png": "[encoded data removed]",
      "text/plain": [
       "<Figure size 432x288 with 1 Axes>"
      ]
     },
     "metadata": {
      "needs_background": "light"
     },
     "output_type": "display_data"
    }
   ],
   "source": [
    "import matplotlib.pyplot as plt\n",
    "\n",
    "plt.scatter(recallArr, precArr, s=0.8)\n",
    "plt.xlim((0,1))\n",
    "plt.ylim((0,1))\n",
    "plt.xlabel('Recall')\n",
    "plt.ylabel('Precision')\n",
    "plt.title('MTCNN on FDDB')\n",
    "plt.show()"
   ]
  },
  {
   "cell_type": "code",
   "execution_count": 24,
   "metadata": {},
   "outputs": [
    {
     "name": "stdout",
     "output_type": "stream",
     "text": [
      "AP 0.9080002683325069\n"
     ]
    }
   ],
   "source": [
    "from sklearn import metrics\n",
    "npRecallArr = np.array(recallArr)\n",
    "npPrecArr = np.array(precArr)\n",
    "\n",
    "idxs = np.argsort(npRecallArr)\n",
    "AP = metrics.auc(npRecallArr[idxs], npPrecArr[idxs])\n",
    "print('AP:', AP)"
   ]
  }
 ],
 "metadata": {
  "interpreter": {
   "hash": "93cee8e4f3b90430d72f78c4fd00dc0b0193da9f4984d01c95e8c24d74e31ba8"
  },
  "kernelspec": {
   "display_name": "Python 3.7.11 64-bit ('cos429': conda)",
   "language": "python",
   "name": "python3"
  },
  "language_info": {
   "codemirror_mode": {
    "name": "ipython",
    "version": 3
   },
   "file_extension": ".py",
   "mimetype": "text/x-python",
   "name": "python",
   "nbconvert_exporter": "python",
   "pygments_lexer": "ipython3",
   "version": "3.7.11"
  },
  "orig_nbformat": 4
 },
 "nbformat": 4,
 "nbformat_minor": 2
}
